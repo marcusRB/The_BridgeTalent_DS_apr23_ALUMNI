{
 "cells": [
  {
   "cell_type": "markdown",
   "metadata": {},
   "source": [
    "# Bus\n",
    "\n",
    "Este bus tiene un sistema de control de subida y bajada de pasajeros para monitorizar el número de ocupantes que lleva y así detectar cuando hay un aforo demasiado alto. \n",
    "\n",
    "En cada parada la subida y bajada de pasajeros se representa por una tupla compuesta por dos números enteros. \n",
    "```\n",
    "bus_stop = (in, out)\n",
    "```\n",
    "La sucesión de paradas se representa con una lista estas tuplas.\n",
    "```\n",
    "stops = [(in1, out1), (in2, out2), (in3, out3), (in4, out4)]\n",
    "```\n",
    "\n",
    "## Objetivos: \n",
    "* listas, tuplas\n",
    "* bucles while/for\n",
    "* mínimo, máximo, longitud\n",
    "* media, desviación estandard\n",
    "\n",
    "## Tareas\n",
    "1. Calcula el número de paradas. \n",
    "2. Asigna a una variable una lista cuyos elementos sean el número de pasajeros en cada parada (in-out), \n",
    "3. Halla el máximo de ocupación del autobús. \n",
    "4. Calcula la media de la ocupación. Y la desviación estandard. \n"
   ]
  },
  {
   "cell_type": "code",
   "execution_count": 30,
   "metadata": {},
   "outputs": [
    {
     "name": "stdout",
     "output_type": "stream",
     "text": [
      "[10, 13, 11, 10, 14, 10, 7, 5, 4]\n",
      "14\n",
      "El valor medio de ocupación:  9.333333333333334\n",
      "la desviación típica es:  3.197221015541813\n"
     ]
    }
   ],
   "source": [
    "stops = [(10, 0), (4, 1), (3, 5), (3, 4), (5, 1), (1, 5), (5, 8), (4, 6), (2, 3)]\n",
    "\n",
    "# 1. Calcula el número de paradas. \n",
    "\n",
    "# para calcular el numero de paradas, utilizo la funcion len\n",
    "\n",
    "numero_paradas = len(stops)\n",
    "print(numero_paradas)\n",
    "\n",
    "\n",
    "# 2. Asigna a una variable una lista cuyos elementos sean el número de pasajeros en \n",
    "# cada parada: Cada elemento depende del elemento previo en la lista + in - out.  \n",
    "\n",
    "\n",
    "\n",
    "\n",
    "paradas = []\n",
    "\"\"\"\n",
    "Creo la variable parada en formato lista. \n",
    "la cantidad de pasajeros la llevo a 0\n",
    "creo un for, donde llamo in_p a los pasajeros que entran y out_p a los que se bajan\n",
    "voy sumando la cantidad de pasajeros con la resta entro los que suben y bajan en cada parada\n",
    "con la funcion append, le voy a agregando a la lista paradas los elementos\n",
    "\n",
    "\"\"\"\n",
    "cantidad_de_pasajeros = 0\n",
    "for in_p, out_p in stops:\n",
    "    cantidad_de_pasajeros += in_p - out_p\n",
    "    paradas.append(cantidad_de_pasajeros)\n",
    "\n",
    "print(paradas)\n",
    "\n",
    "\n",
    "# 3. Halla el máximo de ocupación del autobús. \n",
    "\n",
    "maximo_ocupacion = max(paradas)\n",
    "print(maximo_ocupacion)\n",
    "\n",
    "# 4. Calcula la media de la ocupación. Y la desviación estandard. \n",
    "\n",
    "from statistics import mean\n",
    "\n",
    "\n",
    "print(\"El valor medio de ocupación: \",mean(paradas))\n",
    "    \n",
    "\n",
    "\n",
    "\n",
    "import statistics\n",
    "\n",
    "\n",
    "desviacion_tipica = statistics.pstdev(paradas)\n",
    "print(\"la desviación típica es: \", desviacion_tipica)\n",
    "\n",
    "\n"
   ]
  },
  {
   "cell_type": "code",
   "execution_count": null,
   "metadata": {},
   "outputs": [],
   "source": []
  }
 ],
 "metadata": {
  "kernelspec": {
   "display_name": "Python 3",
   "language": "python",
   "name": "python3"
  },
  "language_info": {
   "codemirror_mode": {
    "name": "ipython",
    "version": 3
   },
   "file_extension": ".py",
   "mimetype": "text/x-python",
   "name": "python",
   "nbconvert_exporter": "python",
   "pygments_lexer": "ipython3",
   "version": "3.9.5"
  }
 },
 "nbformat": 4,
 "nbformat_minor": 2
}

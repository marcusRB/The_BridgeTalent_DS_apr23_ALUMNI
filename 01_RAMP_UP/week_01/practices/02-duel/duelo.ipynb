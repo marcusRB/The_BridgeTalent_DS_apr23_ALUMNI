{
 "cells": [
  {
   "cell_type": "markdown",
   "metadata": {},
   "source": [
    "# Duelo de magos\n",
    "Estás presenciando una batalla épica entre dos poderosos magos: Gandalf y Saruman. Cada mago tiene 10 hechizos de potencia variable en su mente y los van a lanzar uno tras otro. El ganador del duelo será el que gane más de esos choques entre hechizos. Los hechizos se representan como una lista de 10 números enteros cuyo valor equivale a la potencia del hechizo. \n",
    "```\n",
    "gandalf = [10, 11, 13, 30, 22, 11, 10, 33, 22, 22]\n",
    "saruman = [23, 66, 12, 43, 12, 10, 44, 23, 12, 17]\n",
    "```\n",
    "Por ejemplo: \n",
    "1. El primer choque lo gana Saruman: 10 contra 23, gana el 23\n",
    "2. El segundo choque gana Saruman: 11 contra 66, gana el 66\n",
    "3. etc.\n",
    "\n",
    "\n",
    "Vas a crear dos variables, una por cada mago, donde se almacenarán la suma de choques de hechizos ganados. En función de qué variable sea mayor al final del duelo, mostrarás por pantalla uno de los tres siguientes resultados: \n",
    "* Gandalf gana\n",
    "* Saruman gana\n",
    "* Empate\n",
    "\n",
    "\n",
    "1. El primer choque lo gana Saruman: 10 contra 23, gana el 23\n",
    "2. El segundo choque gana Saruman: 11 contra 66, gana el 66\n",
    "3. etc."
   ]
  },
  {
   "cell_type": "markdown",
   "metadata": {},
   "source": [
    "## Solución"
   ]
  },
  {
   "cell_type": "code",
   "execution_count": 1,
   "metadata": {},
   "outputs": [
    {
     "name": "stdout",
     "output_type": "stream",
     "text": [
      "((10, 23), (11, 66), (13, 12), (30, 43), (22, 12), (11, 10), (10, 44), (33, 23), (22, 12), (22, 17))\n",
      "Gano Gandalf\n"
     ]
    }
   ],
   "source": [
    "# Asignamos las listas de hechizos a variables\n",
    "gandalf = [10, 11, 13, 30, 22, 11, 10, 33, 22, 22]\n",
    "saruman = [23, 66, 12, 43, 12, 10, 44, 23, 12, 17]\n",
    "\n",
    "# Asignamos 0 a cada variable que almacena las victorias\n",
    "\n",
    "partida_ganada_gandalf = 0\n",
    "partida_ganada_samuna = 0\n",
    "\n",
    "    \n",
    "\n",
    "# Ejecución de los choques de hechizos\n",
    "\n",
    "\n",
    "tupla_g_s = ()\n",
    "\"\"\"\n",
    "Esta tupla la creo para despues poder iterar sobre ella con un for. Asi puedo iterar\n",
    "con cada valor de la tupla e ir comparandolos entre si\n",
    "\"\"\"\n",
    "\n",
    "\n",
    "for i in range(len(gandalf)):\n",
    "    tupla_g_s += ((gandalf[i], saruman[i]),)\n",
    "\n",
    "print(tupla_g_s)\n",
    "\n",
    "# Mi idea original era poder comparar cada valor de lista de gandalf y saruman ultilizando un for \n",
    "# dentro de otro for, pero como no se me ocurrio como hacerlo hice la tupla  \n",
    "    \n",
    "for partida_g, partida_s in tupla_g_s: \n",
    "    if partida_g > partida_s:\n",
    "        partida_ganada_gandalf +=1\n",
    "    elif partida_g < partida_s:\n",
    "        partida_ganada_samuna += 1\n",
    "        \n",
    "\n",
    "\n",
    "if partida_ganada_gandalf > partida_ganada_samuna:\n",
    "    print(\"Gano Gandalf\")\n",
    "elif partida_ganada_gandalf == partida_ganada_samuna:\n",
    "    print(\"Empataron\")\n",
    "else:\n",
    "    print(\"Gano Saruman\")\n",
    "    \n",
    "# Comprobamos quién ha ganado, no olvides la posibilidad de empate. \n",
    "# Imprime el resultado en función del ganador. \n"
   ]
  },
  {
   "cell_type": "markdown",
   "metadata": {},
   "source": [
    "## Objetivos\n",
    "\n",
    "1. Tratamiento de listas\n",
    "2. Uso de bucle **for**\n",
    "3. Uso de condicionales **if-elif-else**\n",
    "4. Uso de las funciones **range(), len()**\n",
    "5. Imprimir por consola"
   ]
  }
 ],
 "metadata": {
  "kernelspec": {
   "display_name": "Python 3",
   "language": "python",
   "name": "python3"
  },
  "language_info": {
   "codemirror_mode": {
    "name": "ipython",
    "version": 3
   },
   "file_extension": ".py",
   "mimetype": "text/x-python",
   "name": "python",
   "nbconvert_exporter": "python",
   "pygments_lexer": "ipython3",
   "version": "3.9.5"
  }
 },
 "nbformat": 4,
 "nbformat_minor": 2
}

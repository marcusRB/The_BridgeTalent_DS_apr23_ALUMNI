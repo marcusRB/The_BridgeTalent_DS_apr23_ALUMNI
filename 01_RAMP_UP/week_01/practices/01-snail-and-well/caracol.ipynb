{
 "cells": [
  {
   "cell_type": "markdown",
   "metadata": {},
   "source": [
    "# 01 - Caracol y el pozo\n",
    "\n",
    "Un caracol cae en el fondo de un pozo de 125 cm. Cada día el caracol sube 30 cm. pero por la noche, mientras duerme, resbala 20 cm debido a que las paredes son húmedas. ¿Cuantos días tarda en escapar del pozo?\n",
    "\n",
    "TIP: https://www.vix.com/es/btg/curiosidades/59215/acertijos-matematicos-el-caracol-en-el-pozo-facil\n",
    "\n",
    "TIP: http://puzzles.nigelcoldwell.co.uk/sixtytwo.htm"
   ]
  },
  {
   "cell_type": "markdown",
   "metadata": {},
   "source": [
    "## Solución"
   ]
  },
  {
   "cell_type": "code",
   "execution_count": 1,
   "metadata": {},
   "outputs": [
    {
     "name": "stdout",
     "output_type": "stream",
     "text": [
      "13 días\n"
     ]
    }
   ],
   "source": [
    "# Asigna los datos del problema a variables con nombres representativos\n",
    "# altura del pozo, avance diario, retroceso nocturno, distancia acumulada\n",
    "\n",
    "altura_pozo = 125\n",
    "avance_diario = 30\n",
    "retroceso_nocturno = -20\n",
    "distancia_acumulada = 0\n",
    "\n",
    "\n",
    "# Asigna 0 a la variable que representa la solución\n",
    "\n",
    "dias_en_escapar = 0\n",
    "\n",
    "# Escribe el código que soluciona el problema\n",
    "\n",
    "while distancia_acumulada <= altura_pozo:\n",
    "   distancia_acumulada += avance_diario + retroceso_nocturno\n",
    "   dias_en_escapar += 1\n",
    "   \n",
    "print(dias_en_escapar, \"días\")   \n",
    "\n",
    "# Imprime el resultado con print('Dias =', dias)\n",
    "\n"
   ]
  },
  {
   "cell_type": "markdown",
   "metadata": {},
   "source": [
    "## Objetivos\n",
    "\n",
    "1. Tratamiento de variables\n",
    "2. Uso de bucle **while**\n",
    "3. Uso de condicionales **if-else**\n",
    "4. Imprimir por consola"
   ]
  },
  {
   "cell_type": "markdown",
   "metadata": {},
   "source": [
    "## Bonus\n",
    "La distancia recorrida por el caracol viene ahora definida por una lista. \n",
    "```\n",
    "avance_cm = [30, 21, 33, 77, 44, 45, 23, 45, 12, 34, 55]\n",
    "```\n",
    "¿Cuánto tarda en subir el pozo?\n",
    "¿Cuál es su máximo de desplazamiento en un día? ¿Y su mínimo?\n",
    "¿Cuál es su media de velocidad durante el día?\n",
    "¿Cuál es la desviación típica de su desplazamiento durante el día?"
   ]
  },
  {
   "cell_type": "code",
   "execution_count": 52,
   "metadata": {},
   "outputs": [
    {
     "name": "stdout",
     "output_type": "stream",
     "text": [
      "6 días\n",
      "la distancia máxima que recorre en un dia es: 57\n",
      "la distancia minima que recorre en un dia es: -8\n",
      "38.09090909090909\n",
      " el valor medio de avance diario es:  38.09090909090909\n",
      "la desviación típica es:  17.159437082600803\n"
     ]
    }
   ],
   "source": [
    "# Asigna los datos del problema a variables con nombres representativos\n",
    "# altura del pozo, avance diario, retroceso nocturno, distancia acumulada\n",
    "\n",
    "altura_pozo = 125\n",
    "avance_diario = [30, 21, 33, 77, 44, 45, 23, 45, 12, 34, 55]\n",
    "retroceso_nocturno = -20\n",
    "distancia_acumulada = 0\n",
    "\n",
    "# Asigna 0 a la variable que representa la solución\n",
    "\n",
    "dias_en_escapar = 0\n",
    "\n",
    "# Escribe el código que soluciona el problema\n",
    "\n",
    "## de la lista avance diario, utilizo un for para ir operando cada valor.\n",
    "## mientras la distancia acumulada que empieza en 0, sea menor a la altura del pozo\n",
    "## hago que se vayan sumando los valores que surgen de la resta entre el avance y el retroceso (la suma porque retroceso lo exprese en negartivo)\n",
    "## cada una de estos avances, van sumando 1 en los dias que tarda en escapar\n",
    "\n",
    "for avance in avance_diario:\n",
    "    if distancia_acumulada <= altura_pozo:\n",
    "       distancia_acumulada += avance + retroceso_nocturno\n",
    "       dias_en_escapar += 1\n",
    "\n",
    "\n",
    "# Imprime el resultado con print('Dias =', dias)\n",
    "\n",
    "print(dias_en_escapar, \"días\")\n",
    "\n",
    "\n",
    "# ¿Cuál es su máximo de desplazamiento en un día? ¿Y su mínimo?\n",
    "\n",
    "maximo_desplazamiento = max(avance_diario) + retroceso_nocturno\n",
    "minimo_desplazamiento = min(avance_diario) + retroceso_nocturno\n",
    "\n",
    "\n",
    "for avance in avance_diario:\n",
    "    distancia_diaria = avance + retroceso_nocturno\n",
    "    if maximo_desplazamiento == distancia_diaria:\n",
    "        print(\"la distancia máxima que recorre en un dia es:\",distancia_diaria)\n",
    "   \n",
    "    \n",
    "for avance in avance_diario:\n",
    "    distancia_diaria = avance + retroceso_nocturno\n",
    "    if minimo_desplazamiento == distancia_diaria:\n",
    "        print(\"la distancia minima que recorre en un dia es:\",distancia_diaria)\n",
    "\n",
    "# ¿Cuál es su media de avance?\n",
    "\n",
    "# Opcion1: Defino una funcion que me devuelva el valor medio de avance diario\n",
    "\n",
    "def media_avance_diario(dias):\n",
    "    return sum(dias)/len(dias)\n",
    "\n",
    "print(media_avance_diario(avance_diario))\n",
    "\n",
    "# Opcion2: Ultizo la funcion statistics que me calcula la media\n",
    "\n",
    "\n",
    "from statistics import mean\n",
    "\n",
    "print(\" el valor medio de avance diario es: \",mean(avance_diario))\n",
    "    \n",
    "\n",
    "\n",
    "\n",
    "# ¿Cuál es la desviación típica de su desplazamiento durante el día?\n",
    "\n",
    "import statistics\n",
    "\n",
    "\n",
    "desviacion_tipica = statistics.pstdev(avance_diario)\n",
    "print(\"la desviación típica es: \", desviacion_tipica)\n"
   ]
  },
  {
   "cell_type": "code",
   "execution_count": null,
   "metadata": {},
   "outputs": [],
   "source": []
  }
 ],
 "metadata": {
  "kernelspec": {
   "display_name": "Python 3",
   "language": "python",
   "name": "python3"
  },
  "language_info": {
   "codemirror_mode": {
    "name": "ipython",
    "version": 3
   },
   "file_extension": ".py",
   "mimetype": "text/x-python",
   "name": "python",
   "nbconvert_exporter": "python",
   "pygments_lexer": "ipython3",
   "version": "3.9.5"
  }
 },
 "nbformat": 4,
 "nbformat_minor": 4
}

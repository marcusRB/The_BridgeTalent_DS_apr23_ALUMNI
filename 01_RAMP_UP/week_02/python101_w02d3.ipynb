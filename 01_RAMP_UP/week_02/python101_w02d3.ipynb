{
 "cells": [
  {
   "attachments": {},
   "cell_type": "markdown",
   "metadata": {},
   "source": [
    "# Funciones parte II\n",
    "\n",
    "-- Rock, Paper, Scissor\n",
    "\n",
    "Pseudocódigo del juego\n",
    "\n",
    "```\n",
    "- Elige un número de jugadas\n",
    "- [X] - **USUARIO**\n",
    "- Usuario elige entre piedra, papel, tijera\n",
    "- validar si es correcto\n",
    "\n",
    "PC\n",
    "- aleatoriamente el computer elige entre piedra, papel, tijera\n",
    "\n",
    "OUTPUT\n",
    "- se realiza una comparativa entre PC y Usuario\n",
    "- puntuación (empete en caso que... winner, en caso que...)\n",
    "- imprime el resultado\n",
    "- guarda la puntuación\n",
    "- sigue el número de jugadas faltante o salimos del juego\n",
    "GAME OVER\n",
    "```"
   ]
  },
  {
   "cell_type": "code",
   "execution_count": 1,
   "metadata": {},
   "outputs": [],
   "source": [
    "# para la aleatoriedad importamos la función random.choice\n",
    "from random import choice"
   ]
  },
  {
   "cell_type": "code",
   "execution_count": 2,
   "metadata": {},
   "outputs": [],
   "source": [
    "choice = False\n",
    "move = input(\"Piedra, Papel, Tijera: elige la jugada teclea piedra, papel, tijera\")"
   ]
  },
  {
   "cell_type": "code",
   "execution_count": 3,
   "metadata": {},
   "outputs": [
    {
     "name": "stdout",
     "output_type": "stream",
     "text": [
      "Elige una jugada\n"
     ]
    }
   ],
   "source": [
    "if move in [...]:\n",
    "    choice = True\n",
    "else:\n",
    "    print(\"Elige una jugada\")\n",
    "    \n",
    "# Podemos mejorar este proceso con while y utilizando un contador de veces  # 5"
   ]
  },
  {
   "cell_type": "code",
   "execution_count": null,
   "metadata": {},
   "outputs": [],
   "source": [
    "# Convertimos en un código script \n",
    "def prompt_user():\n",
    "    pass"
   ]
  },
  {
   "cell_type": "code",
   "execution_count": null,
   "metadata": {},
   "outputs": [],
   "source": [
    "# Función que permite validar la jugada\n",
    "def valid_input(choice, valid_options=None):\n",
    "    pass"
   ]
  }
 ],
 "metadata": {
  "kernelspec": {
   "display_name": "ramp_up_py395",
   "language": "python",
   "name": "python3"
  },
  "language_info": {
   "codemirror_mode": {
    "name": "ipython",
    "version": 3
   },
   "file_extension": ".py",
   "mimetype": "text/x-python",
   "name": "python",
   "nbconvert_exporter": "python",
   "pygments_lexer": "ipython3",
   "version": "3.9.5"
  },
  "orig_nbformat": 4
 },
 "nbformat": 4,
 "nbformat_minor": 2
}

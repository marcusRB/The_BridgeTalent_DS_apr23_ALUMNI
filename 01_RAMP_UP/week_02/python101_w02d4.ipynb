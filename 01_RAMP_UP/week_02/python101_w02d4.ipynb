{
 "cells": [
  {
   "attachments": {},
   "cell_type": "markdown",
   "metadata": {},
   "source": [
    "# Input - Output - parte I"
   ]
  },
  {
   "cell_type": "code",
   "execution_count": 1,
   "metadata": {},
   "outputs": [],
   "source": [
    "# Para poder realizar operaciones de lectura y escritura\n",
    "import os\n",
    "import sys"
   ]
  },
  {
   "attachments": {},
   "cell_type": "markdown",
   "metadata": {},
   "source": [
    "## Modalidad escritura"
   ]
  },
  {
   "cell_type": "code",
   "execution_count": 4,
   "metadata": {},
   "outputs": [],
   "source": [
    "# Para poder abrir un ficher ejemplo thebridge.txt y escribir en ello\n",
    "# Definimos el nombre del fichero\n",
    "nombre_fichero = \"thebridge.txt\"\n",
    "\n",
    "# Abrimos el fichero en modalidad escritura \"write\"\n",
    "file_out = open(nombre_fichero, 'w', encoding='utf-8')\n",
    "\n",
    "for n in range(1,10):\n",
    "    '''\n",
    "    Procederemos con la escritura de 10 líneas de código\n",
    "    '''\n",
    "    # Llamando el fichero procederemos con la escritura de las líneas\n",
    "    file_out.write(\"Línea %d%s\" % (n, os.linesep)) # el separador es os.linesep \\n\n",
    "\n",
    "# Finalmente cerramos el fichero\n",
    "file_out.close()"
   ]
  },
  {
   "attachments": {},
   "cell_type": "markdown",
   "metadata": {},
   "source": [
    "## Modalidad lectura"
   ]
  },
  {
   "cell_type": "code",
   "execution_count": 5,
   "metadata": {},
   "outputs": [
    {
     "name": "stdout",
     "output_type": "stream",
     "text": [
      "Línea 1\n",
      "\n",
      "Línea 2\n",
      "\n",
      "Línea 3\n",
      "\n",
      "Línea 4\n",
      "\n",
      "Línea 5\n",
      "\n",
      "Línea 6\n",
      "\n",
      "Línea 7\n",
      "\n",
      "Línea 8\n",
      "\n",
      "Línea 9\n",
      "\n",
      "\n"
     ]
    }
   ],
   "source": [
    "f = open(nombre_fichero, 'r', encoding='utf-8')\n",
    "for line in f:\n",
    "    print(line, end=\"\")\n",
    "f.close()\n",
    "print()"
   ]
  },
  {
   "attachments": {},
   "cell_type": "markdown",
   "metadata": {},
   "source": [
    "## Alternativa modo open/close"
   ]
  },
  {
   "cell_type": "code",
   "execution_count": 9,
   "metadata": {},
   "outputs": [
    {
     "name": "stdout",
     "output_type": "stream",
     "text": [
      "numpy==1.23.3\n",
      "seaborn==0.12.0\n",
      "pandas==1.5.0\n",
      "statsmodels\n",
      "scipy"
     ]
    }
   ],
   "source": [
    "# La alternativa a open / close\n",
    "\n",
    "with open(\"requirements.txt\", 'r', encoding='utf-8') as fichero:\n",
    "    for line in fichero:\n",
    "        print(line, end=\"\")\n",
    "    \n",
    "# no tiene el método close(), porque el with lo hará por nosotros al finalizar la operación"
   ]
  }
 ],
 "metadata": {
  "kernelspec": {
   "display_name": "ramp_up_py395",
   "language": "python",
   "name": "python3"
  },
  "language_info": {
   "codemirror_mode": {
    "name": "ipython",
    "version": 3
   },
   "file_extension": ".py",
   "mimetype": "text/x-python",
   "name": "python",
   "nbconvert_exporter": "python",
   "pygments_lexer": "ipython3",
   "version": "3.9.5"
  },
  "orig_nbformat": 4
 },
 "nbformat": 4,
 "nbformat_minor": 2
}

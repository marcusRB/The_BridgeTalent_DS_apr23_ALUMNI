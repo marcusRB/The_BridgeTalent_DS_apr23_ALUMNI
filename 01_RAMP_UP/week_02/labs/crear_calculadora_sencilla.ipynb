{
 "cells": [
  {
   "attachments": {},
   "cell_type": "markdown",
   "metadata": {},
   "source": [
    "# Crear calculadora sencilla\n",
    "\n",
    " PSEUDOCODIGO\n",
    "\n",
    "Declaramos dos valores de entrada\n",
    "```\n",
    "a (input)\n",
    "b (input)\n",
    "```\n",
    "\n",
    "Declarar el tipo de operación a realizar\n",
    "```\n",
    "operacion (input)\n",
    "```\n",
    "\n",
    "Creamos una variable con una lista de operadores\n",
    "```\n",
    "operadores = [\"+\", \"-\", \"*\", \"/\", \"//\", \"%\" ]\n",
    "```\n",
    "\n",
    "Declaramos la condición de evaluación\n",
    "SI el operador no se encuentra en la lista de Operadores\n",
    "`` \n",
    "print (Operación no reconocida)\n",
    "```\n",
    "\n",
    "ELSE\n",
    "\n",
    "SI el operacion es \"+\"\n",
    "ELSE RESULTADO a+b\n",
    "\n",
    "SI EL operacion es \"-\"\n",
    "ELSE RESULTADO a-b\n",
    "\n",
    "\n",
    "... así para el resto de operadores\n",
    "\n",
    "print(resultado)\n",
    "```"
   ]
  },
  {
   "cell_type": "code",
   "execution_count": 3,
   "metadata": {},
   "outputs": [
    {
     "name": "stdout",
     "output_type": "stream",
     "text": [
      "0\n"
     ]
    }
   ],
   "source": [
    "#Lista de operadores\n",
    "operadores = [\"+\", \"-\", \"*\", \"/\", \"//\", \"%\"]\n",
    "\n",
    "# Variables de entrada\n",
    "\n",
    "# Recogemos el primer numero\n",
    "primerNum = input(\"Introduzca el primer valor: \")\n",
    "isNumero = primerNum.isnumeric() # Comprobamos si es un número\n",
    "while isNumero == False: # Si no es un número, volvemos a pedirlo.\n",
    "    primerNum = input(\"Valor erróneo. Introduzca el primer valor: \")\n",
    "    isNumero = primerNum.isnumeric()\n",
    "primerNum = int(primerNum) # Al estar seguros de que es un número, realizamos el cast\n",
    "\n",
    "# Recogemos la operación.\n",
    "operacion = input(\"Introduzca operación (+ - * / // %): \")\n",
    "isOperacion = operacion in operadores\n",
    "while isOperacion == False: #Si no es una operación correcta, volvemos a pedirla.\n",
    "    operacion = input(\"Operacion erronea. Introduzca operación (+ - * / // %): \")\n",
    "    isOperacion = operacion in operadores\n",
    "\n",
    "# Recogemos el segundo numero\n",
    "segundoNum = input(\"Introduzca el segundo valor: \")\n",
    "isNumero = segundoNum.isnumeric() # Comprobamos si es un número\n",
    "while isNumero == False: #Si no es un número, volvemos a pedirlo.\n",
    "    segundoNum = input(\"Valor erróneo. Introduzca el segundo valor: \")\n",
    "    isNumero = segundoNum.isnumeric()\n",
    "segundoNum = int(segundoNum) # Al estar seguros de que es un número, realizamos el cast\n",
    "\n",
    "# Realizamos los cálculos.\n",
    "if operacion == \"+\":\n",
    "    print(primerNum+segundoNum)\n",
    "elif operacion == \"-\":\n",
    "    print(primerNum-segundoNum)\n",
    "elif operacion == \"*\":\n",
    "    print(primerNum*segundoNum)\n",
    "elif operacion == \"/\":\n",
    "    print(primerNum/segundoNum)\n",
    "elif operacion == \"//\":\n",
    "    print(primerNum**segundoNum)\n",
    "elif operacion == \"%\":\n",
    "    print(primerNum%segundoNum)\n",
    "    \n"
   ]
  }
 ],
 "metadata": {
  "kernelspec": {
   "display_name": "ramp_up_py395",
   "language": "python",
   "name": "python3"
  },
  "language_info": {
   "codemirror_mode": {
    "name": "ipython",
    "version": 3
   },
   "file_extension": ".py",
   "mimetype": "text/x-python",
   "name": "python",
   "nbconvert_exporter": "python",
   "pygments_lexer": "ipython3",
   "version": "3.9.5"
  },
  "orig_nbformat": 4
 },
 "nbformat": 4,
 "nbformat_minor": 2
}
